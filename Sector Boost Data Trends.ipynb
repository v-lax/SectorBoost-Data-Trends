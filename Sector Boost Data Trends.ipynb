{
 "cells": [
  {
   "cell_type": "code",
   "execution_count": 25,
   "metadata": {},
   "outputs": [],
   "source": [
    "import pandas as pd\n",
    "import numpy as np"
   ]
  },
  {
   "cell_type": "code",
   "execution_count": 26,
   "metadata": {},
   "outputs": [
    {
     "data": {
      "text/html": [
       "<div>\n",
       "<style scoped>\n",
       "    .dataframe tbody tr th:only-of-type {\n",
       "        vertical-align: middle;\n",
       "    }\n",
       "\n",
       "    .dataframe tbody tr th {\n",
       "        vertical-align: top;\n",
       "    }\n",
       "\n",
       "    .dataframe thead th {\n",
       "        text-align: right;\n",
       "    }\n",
       "</style>\n",
       "<table border=\"1\" class=\"dataframe\">\n",
       "  <thead>\n",
       "    <tr style=\"text-align: right;\">\n",
       "      <th></th>\n",
       "      <th>Organization: Account Name</th>\n",
       "      <th>Primary Coach: Full Name</th>\n",
       "      <th>Customer Number</th>\n",
       "      <th>Gender</th>\n",
       "      <th>Age</th>\n",
       "      <th>Highest Education Achieved</th>\n",
       "      <th>Race</th>\n",
       "      <th>Ethnicity</th>\n",
       "      <th>Employment Type</th>\n",
       "      <th>Assets Balances Baseline Amount</th>\n",
       "      <th>Debt Baseline Amount</th>\n",
       "      <th>Debt w/o Mortgage Baseline Amount</th>\n",
       "      <th>Banking Baseline Amount</th>\n",
       "      <th>Banking Status at Time of First Meeting</th>\n",
       "      <th>Benefits</th>\n",
       "      <th>Income Supports</th>\n",
       "      <th>Credit Score Baseline Amount</th>\n",
       "      <th>Credit Invisible</th>\n",
       "    </tr>\n",
       "  </thead>\n",
       "  <tbody>\n",
       "    <tr>\n",
       "      <th>0</th>\n",
       "      <td>Isaacs Center (SectorBOOST)</td>\n",
       "      <td>Katherine Robles</td>\n",
       "      <td>166016</td>\n",
       "      <td>Male</td>\n",
       "      <td>22.0</td>\n",
       "      <td>High School Diploma or Equivalent (GED)</td>\n",
       "      <td>Black/African-American</td>\n",
       "      <td>Not of Hispanic Origin</td>\n",
       "      <td>NaN</td>\n",
       "      <td>NaN</td>\n",
       "      <td>NaN</td>\n",
       "      <td>NaN</td>\n",
       "      <td>NaN</td>\n",
       "      <td>Checking and Savings</td>\n",
       "      <td>NaN</td>\n",
       "      <td>NaN</td>\n",
       "      <td>NaN</td>\n",
       "      <td>0</td>\n",
       "    </tr>\n",
       "    <tr>\n",
       "      <th>1</th>\n",
       "      <td>Isaacs Center (SectorBOOST)</td>\n",
       "      <td>Katherine Robles</td>\n",
       "      <td>189932</td>\n",
       "      <td>Female</td>\n",
       "      <td>21.0</td>\n",
       "      <td>Some College (1-4 years, no degree)</td>\n",
       "      <td>Multiracial</td>\n",
       "      <td>Hispanic Origin</td>\n",
       "      <td>NaN</td>\n",
       "      <td>162.0</td>\n",
       "      <td>17893.0</td>\n",
       "      <td>17893.0</td>\n",
       "      <td>480.0</td>\n",
       "      <td>Checking</td>\n",
       "      <td>NaN</td>\n",
       "      <td>NaN</td>\n",
       "      <td>587.0</td>\n",
       "      <td>0</td>\n",
       "    </tr>\n",
       "    <tr>\n",
       "      <th>2</th>\n",
       "      <td>The Knowledge House (SectorBOOST)</td>\n",
       "      <td>Merrishel Richardson</td>\n",
       "      <td>168609</td>\n",
       "      <td>Male</td>\n",
       "      <td>NaN</td>\n",
       "      <td>Bachelor's Degree</td>\n",
       "      <td>Black/African-American</td>\n",
       "      <td>Hispanic Origin</td>\n",
       "      <td>NaN</td>\n",
       "      <td>NaN</td>\n",
       "      <td>NaN</td>\n",
       "      <td>NaN</td>\n",
       "      <td>NaN</td>\n",
       "      <td>Checking and Savings</td>\n",
       "      <td>NaN</td>\n",
       "      <td>NaN</td>\n",
       "      <td>NaN</td>\n",
       "      <td>0</td>\n",
       "    </tr>\n",
       "    <tr>\n",
       "      <th>3</th>\n",
       "      <td>The Knowledge House (SectorBOOST)</td>\n",
       "      <td>Merrishel Richardson</td>\n",
       "      <td>169698</td>\n",
       "      <td>Male</td>\n",
       "      <td>29.0</td>\n",
       "      <td>Some College (1-4 years, no degree)</td>\n",
       "      <td>Multiracial</td>\n",
       "      <td>Hispanic Origin</td>\n",
       "      <td>NaN</td>\n",
       "      <td>NaN</td>\n",
       "      <td>NaN</td>\n",
       "      <td>NaN</td>\n",
       "      <td>NaN</td>\n",
       "      <td>Checking</td>\n",
       "      <td>NaN</td>\n",
       "      <td>NaN</td>\n",
       "      <td>NaN</td>\n",
       "      <td>0</td>\n",
       "    </tr>\n",
       "    <tr>\n",
       "      <th>4</th>\n",
       "      <td>The Knowledge House (SectorBOOST)</td>\n",
       "      <td>Merrishel Richardson</td>\n",
       "      <td>195440</td>\n",
       "      <td>Male</td>\n",
       "      <td>23.0</td>\n",
       "      <td>High School Diploma or Equivalent (GED)</td>\n",
       "      <td>Black/African-American</td>\n",
       "      <td>Not of Hispanic Origin</td>\n",
       "      <td>NaN</td>\n",
       "      <td>NaN</td>\n",
       "      <td>NaN</td>\n",
       "      <td>NaN</td>\n",
       "      <td>NaN</td>\n",
       "      <td>Checking</td>\n",
       "      <td>NaN</td>\n",
       "      <td>NaN</td>\n",
       "      <td>NaN</td>\n",
       "      <td>0</td>\n",
       "    </tr>\n",
       "  </tbody>\n",
       "</table>\n",
       "</div>"
      ],
      "text/plain": [
       "          Organization: Account Name Primary Coach: Full Name  \\\n",
       "0        Isaacs Center (SectorBOOST)         Katherine Robles   \n",
       "1        Isaacs Center (SectorBOOST)         Katherine Robles   \n",
       "2  The Knowledge House (SectorBOOST)     Merrishel Richardson   \n",
       "3  The Knowledge House (SectorBOOST)     Merrishel Richardson   \n",
       "4  The Knowledge House (SectorBOOST)     Merrishel Richardson   \n",
       "\n",
       "   Customer Number  Gender   Age               Highest Education Achieved  \\\n",
       "0           166016    Male  22.0  High School Diploma or Equivalent (GED)   \n",
       "1           189932  Female  21.0      Some College (1-4 years, no degree)   \n",
       "2           168609    Male   NaN                        Bachelor's Degree   \n",
       "3           169698    Male  29.0      Some College (1-4 years, no degree)   \n",
       "4           195440    Male  23.0  High School Diploma or Equivalent (GED)   \n",
       "\n",
       "                     Race               Ethnicity Employment Type  \\\n",
       "0  Black/African-American  Not of Hispanic Origin             NaN   \n",
       "1             Multiracial         Hispanic Origin             NaN   \n",
       "2  Black/African-American         Hispanic Origin             NaN   \n",
       "3             Multiracial         Hispanic Origin             NaN   \n",
       "4  Black/African-American  Not of Hispanic Origin             NaN   \n",
       "\n",
       "   Assets Balances Baseline Amount  Debt Baseline Amount  \\\n",
       "0                              NaN                   NaN   \n",
       "1                            162.0               17893.0   \n",
       "2                              NaN                   NaN   \n",
       "3                              NaN                   NaN   \n",
       "4                              NaN                   NaN   \n",
       "\n",
       "   Debt w/o Mortgage Baseline Amount  Banking Baseline Amount  \\\n",
       "0                                NaN                      NaN   \n",
       "1                            17893.0                    480.0   \n",
       "2                                NaN                      NaN   \n",
       "3                                NaN                      NaN   \n",
       "4                                NaN                      NaN   \n",
       "\n",
       "  Banking Status at Time of First Meeting Benefits Income Supports  \\\n",
       "0                    Checking and Savings      NaN             NaN   \n",
       "1                                Checking      NaN             NaN   \n",
       "2                    Checking and Savings      NaN             NaN   \n",
       "3                                Checking      NaN             NaN   \n",
       "4                                Checking      NaN             NaN   \n",
       "\n",
       "   Credit Score Baseline Amount  Credit Invisible  \n",
       "0                           NaN                 0  \n",
       "1                         587.0                 0  \n",
       "2                           NaN                 0  \n",
       "3                           NaN                 0  \n",
       "4                           NaN                 0  "
      ]
     },
     "execution_count": 26,
     "metadata": {},
     "output_type": "execute_result"
    }
   ],
   "source": [
    "data=pd.read_csv('secboost.csv')\n",
    "data.head()"
   ]
  },
  {
   "cell_type": "code",
   "execution_count": 27,
   "metadata": {},
   "outputs": [
    {
     "data": {
      "text/plain": [
       "7752.865853658536"
      ]
     },
     "execution_count": 27,
     "metadata": {},
     "output_type": "execute_result"
    }
   ],
   "source": [
    "data['Debt Baseline Amount'].mean()"
   ]
  },
  {
   "cell_type": "code",
   "execution_count": 28,
   "metadata": {},
   "outputs": [
    {
     "data": {
      "text/plain": [
       "635735.0"
      ]
     },
     "execution_count": 28,
     "metadata": {},
     "output_type": "execute_result"
    }
   ],
   "source": [
    "data['Debt Baseline Amount'].sum()"
   ]
  },
  {
   "cell_type": "code",
   "execution_count": 29,
   "metadata": {},
   "outputs": [
    {
     "data": {
      "text/plain": [
       "False    82\n",
       "True     33\n",
       "Name: Debt Baseline Amount, dtype: int64"
      ]
     },
     "execution_count": 29,
     "metadata": {},
     "output_type": "execute_result"
    }
   ],
   "source": [
    "data['Debt Baseline Amount'].isnull().value_counts()"
   ]
  },
  {
   "cell_type": "code",
   "execution_count": 30,
   "metadata": {},
   "outputs": [
    {
     "data": {
      "text/html": [
       "<div>\n",
       "<style scoped>\n",
       "    .dataframe tbody tr th:only-of-type {\n",
       "        vertical-align: middle;\n",
       "    }\n",
       "\n",
       "    .dataframe tbody tr th {\n",
       "        vertical-align: top;\n",
       "    }\n",
       "\n",
       "    .dataframe thead th {\n",
       "        text-align: right;\n",
       "    }\n",
       "</style>\n",
       "<table border=\"1\" class=\"dataframe\">\n",
       "  <thead>\n",
       "    <tr style=\"text-align: right;\">\n",
       "      <th></th>\n",
       "      <th>Customer Number</th>\n",
       "      <th>Age</th>\n",
       "      <th>Assets Balances Baseline Amount</th>\n",
       "      <th>Debt Baseline Amount</th>\n",
       "      <th>Debt w/o Mortgage Baseline Amount</th>\n",
       "      <th>Banking Baseline Amount</th>\n",
       "      <th>Credit Score Baseline Amount</th>\n",
       "      <th>Credit Invisible</th>\n",
       "    </tr>\n",
       "  </thead>\n",
       "  <tbody>\n",
       "    <tr>\n",
       "      <th>count</th>\n",
       "      <td>115.000000</td>\n",
       "      <td>104.000000</td>\n",
       "      <td>92.000000</td>\n",
       "      <td>82.000000</td>\n",
       "      <td>82.000000</td>\n",
       "      <td>95.000000</td>\n",
       "      <td>84.000000</td>\n",
       "      <td>115.000000</td>\n",
       "    </tr>\n",
       "    <tr>\n",
       "      <th>mean</th>\n",
       "      <td>176397.643478</td>\n",
       "      <td>23.538462</td>\n",
       "      <td>1634.934783</td>\n",
       "      <td>7752.865854</td>\n",
       "      <td>7752.865854</td>\n",
       "      <td>184.884211</td>\n",
       "      <td>425.880952</td>\n",
       "      <td>0.208696</td>\n",
       "    </tr>\n",
       "    <tr>\n",
       "      <th>std</th>\n",
       "      <td>11384.655108</td>\n",
       "      <td>3.358580</td>\n",
       "      <td>4131.637179</td>\n",
       "      <td>17438.668579</td>\n",
       "      <td>17438.668579</td>\n",
       "      <td>611.371720</td>\n",
       "      <td>294.513951</td>\n",
       "      <td>0.408155</td>\n",
       "    </tr>\n",
       "    <tr>\n",
       "      <th>min</th>\n",
       "      <td>160242.000000</td>\n",
       "      <td>19.000000</td>\n",
       "      <td>0.000000</td>\n",
       "      <td>0.000000</td>\n",
       "      <td>0.000000</td>\n",
       "      <td>0.000000</td>\n",
       "      <td>0.000000</td>\n",
       "      <td>0.000000</td>\n",
       "    </tr>\n",
       "    <tr>\n",
       "      <th>25%</th>\n",
       "      <td>165815.000000</td>\n",
       "      <td>21.000000</td>\n",
       "      <td>8.500000</td>\n",
       "      <td>0.000000</td>\n",
       "      <td>0.000000</td>\n",
       "      <td>0.000000</td>\n",
       "      <td>0.000000</td>\n",
       "      <td>0.000000</td>\n",
       "    </tr>\n",
       "    <tr>\n",
       "      <th>50%</th>\n",
       "      <td>175088.000000</td>\n",
       "      <td>23.000000</td>\n",
       "      <td>515.000000</td>\n",
       "      <td>1254.500000</td>\n",
       "      <td>1254.500000</td>\n",
       "      <td>0.000000</td>\n",
       "      <td>556.000000</td>\n",
       "      <td>0.000000</td>\n",
       "    </tr>\n",
       "    <tr>\n",
       "      <th>75%</th>\n",
       "      <td>182539.500000</td>\n",
       "      <td>25.000000</td>\n",
       "      <td>1410.000000</td>\n",
       "      <td>10333.750000</td>\n",
       "      <td>10333.750000</td>\n",
       "      <td>42.000000</td>\n",
       "      <td>643.250000</td>\n",
       "      <td>0.000000</td>\n",
       "    </tr>\n",
       "    <tr>\n",
       "      <th>max</th>\n",
       "      <td>198918.000000</td>\n",
       "      <td>37.000000</td>\n",
       "      <td>34571.000000</td>\n",
       "      <td>118365.000000</td>\n",
       "      <td>118365.000000</td>\n",
       "      <td>4800.000000</td>\n",
       "      <td>756.000000</td>\n",
       "      <td>1.000000</td>\n",
       "    </tr>\n",
       "  </tbody>\n",
       "</table>\n",
       "</div>"
      ],
      "text/plain": [
       "       Customer Number         Age  Assets Balances Baseline Amount  \\\n",
       "count       115.000000  104.000000                        92.000000   \n",
       "mean     176397.643478   23.538462                      1634.934783   \n",
       "std       11384.655108    3.358580                      4131.637179   \n",
       "min      160242.000000   19.000000                         0.000000   \n",
       "25%      165815.000000   21.000000                         8.500000   \n",
       "50%      175088.000000   23.000000                       515.000000   \n",
       "75%      182539.500000   25.000000                      1410.000000   \n",
       "max      198918.000000   37.000000                     34571.000000   \n",
       "\n",
       "       Debt Baseline Amount  Debt w/o Mortgage Baseline Amount  \\\n",
       "count             82.000000                          82.000000   \n",
       "mean            7752.865854                        7752.865854   \n",
       "std            17438.668579                       17438.668579   \n",
       "min                0.000000                           0.000000   \n",
       "25%                0.000000                           0.000000   \n",
       "50%             1254.500000                        1254.500000   \n",
       "75%            10333.750000                       10333.750000   \n",
       "max           118365.000000                      118365.000000   \n",
       "\n",
       "       Banking Baseline Amount  Credit Score Baseline Amount  Credit Invisible  \n",
       "count                95.000000                     84.000000        115.000000  \n",
       "mean                184.884211                    425.880952          0.208696  \n",
       "std                 611.371720                    294.513951          0.408155  \n",
       "min                   0.000000                      0.000000          0.000000  \n",
       "25%                   0.000000                      0.000000          0.000000  \n",
       "50%                   0.000000                    556.000000          0.000000  \n",
       "75%                  42.000000                    643.250000          0.000000  \n",
       "max                4800.000000                    756.000000          1.000000  "
      ]
     },
     "execution_count": 30,
     "metadata": {},
     "output_type": "execute_result"
    }
   ],
   "source": [
    "data.describe()"
   ]
  },
  {
   "cell_type": "code",
   "execution_count": 31,
   "metadata": {},
   "outputs": [],
   "source": [
    "#Average Assets Balance Baseline Amount = $1634.93\n",
    "#Average Debt/Non Mortgage Debt Baseline Amount = $7752.87\n",
    "#Average Banking Baseline Amount = $184.88"
   ]
  },
  {
   "cell_type": "code",
   "execution_count": 32,
   "metadata": {},
   "outputs": [
    {
     "data": {
      "text/plain": [
       "Checking and Savings    43\n",
       "Checking                32\n",
       "None                     9\n",
       "Savings                  2\n",
       "Name: Banking Status at Time of First Meeting, dtype: int64"
      ]
     },
     "execution_count": 32,
     "metadata": {},
     "output_type": "execute_result"
    }
   ],
   "source": [
    "data['Banking Status at Time of First Meeting'].value_counts()"
   ]
  },
  {
   "cell_type": "markdown",
   "metadata": {},
   "source": [
    "So 77 out of the 86 customers who filled this section out have either a checking or savings account or both. They also have a high amount of banking transaction costs, $184.88 on average. I am interested to see what exactly these costs are that they are incurring even with formal bank accounts and why. "
   ]
  },
  {
   "cell_type": "code",
   "execution_count": 33,
   "metadata": {},
   "outputs": [
    {
     "data": {
      "text/plain": [
       "Some College (1-4 years, no degree)                            51\n",
       "High School Diploma or Equivalent (GED)                        35\n",
       "Bachelor's Degree                                              15\n",
       "Associate's Degree                                              6\n",
       "Less than High School Diploma                                   3\n",
       "Certification from Vocational or Technical Training Program     1\n",
       "Name: Highest Education Achieved, dtype: int64"
      ]
     },
     "execution_count": 33,
     "metadata": {},
     "output_type": "execute_result"
    }
   ],
   "source": [
    "data['Highest Education Achieved'].value_counts()"
   ]
  },
  {
   "cell_type": "markdown",
   "metadata": {},
   "source": [
    "looking at the breakdown of education, it seems like the majority of the customers have been to some college but have not gotten their degree. Are students not able to afford higher education and droping out? What other reasons might influence why the majority of customers have some college but no degree. "
   ]
  },
  {
   "cell_type": "code",
   "execution_count": 34,
   "metadata": {},
   "outputs": [
    {
     "data": {
      "text/plain": [
       "Female                  67\n",
       "Male                    41\n",
       "Prefer not to answer     2\n",
       "Transgender              1\n",
       "Name: Gender, dtype: int64"
      ]
     },
     "execution_count": 34,
     "metadata": {},
     "output_type": "execute_result"
    }
   ],
   "source": [
    "data['Gender'].value_counts()"
   ]
  },
  {
   "cell_type": "code",
   "execution_count": 35,
   "metadata": {},
   "outputs": [],
   "source": [
    "#put the data frame through the Race and Ethnicity cleaning script you have and get a breakdown of race/ethnicity"
   ]
  },
  {
   "cell_type": "code",
   "execution_count": 36,
   "metadata": {},
   "outputs": [],
   "source": [
    "data1=data[data['Credit Score Baseline Amount']>1]"
   ]
  },
  {
   "cell_type": "code",
   "execution_count": 39,
   "metadata": {},
   "outputs": [
    {
     "data": {
      "text/plain": [
       "616.7931034482758"
      ]
     },
     "execution_count": 39,
     "metadata": {},
     "output_type": "execute_result"
    }
   ],
   "source": [
    "#average Credit score 616.7\n",
    "data1['Credit Score Baseline Amount'].mean()"
   ]
  },
  {
   "cell_type": "code",
   "execution_count": 40,
   "metadata": {},
   "outputs": [],
   "source": [
    "data2=data.dropna(subset=['Credit Score Baseline Amount'])"
   ]
  },
  {
   "cell_type": "code",
   "execution_count": 42,
   "metadata": {},
   "outputs": [
    {
     "data": {
      "text/plain": [
       "0    60\n",
       "1    24\n",
       "Name: Credit Invisible, dtype: int64"
      ]
     },
     "execution_count": 42,
     "metadata": {},
     "output_type": "execute_result"
    }
   ],
   "source": [
    "#Out of 84 people that a credit score only 24 people with a credit invisible. \n",
    "data2['Credit Invisible'].value_counts()"
   ]
  },
  {
   "cell_type": "code",
   "execution_count": 43,
   "metadata": {},
   "outputs": [],
   "source": [
    "data['Race_Eth']= data['Race'].map(str)+' '+data['Ethnicity']"
   ]
  },
  {
   "cell_type": "code",
   "execution_count": 44,
   "metadata": {},
   "outputs": [
    {
     "name": "stderr",
     "output_type": "stream",
     "text": [
      "/Users/TFC-VLakshmanan/anaconda2/lib/python2.7/site-packages/ipykernel_launcher.py:3: FutureWarning: get_value is deprecated and will be removed in a future release. Please use .at[] or .iat[] accessors instead\n",
      "  This is separate from the ipykernel package so we can avoid doing imports until\n",
      "/Users/TFC-VLakshmanan/anaconda2/lib/python2.7/site-packages/ipykernel_launcher.py:27: FutureWarning: set_value is deprecated and will be removed in a future release. Please use .at[] or .iat[] accessors instead\n",
      "/Users/TFC-VLakshmanan/anaconda2/lib/python2.7/site-packages/ipykernel_launcher.py:10: FutureWarning: set_value is deprecated and will be removed in a future release. Please use .at[] or .iat[] accessors instead\n",
      "  # Remove the CWD from sys.path while we load stuff.\n",
      "/Users/TFC-VLakshmanan/anaconda2/lib/python2.7/site-packages/ipykernel_launcher.py:12: FutureWarning: set_value is deprecated and will be removed in a future release. Please use .at[] or .iat[] accessors instead\n",
      "  if sys.path[0] == '':\n",
      "/Users/TFC-VLakshmanan/anaconda2/lib/python2.7/site-packages/ipykernel_launcher.py:8: FutureWarning: set_value is deprecated and will be removed in a future release. Please use .at[] or .iat[] accessors instead\n",
      "  \n",
      "/Users/TFC-VLakshmanan/anaconda2/lib/python2.7/site-packages/ipykernel_launcher.py:6: FutureWarning: set_value is deprecated and will be removed in a future release. Please use .at[] or .iat[] accessors instead\n",
      "  \n",
      "/Users/TFC-VLakshmanan/anaconda2/lib/python2.7/site-packages/ipykernel_launcher.py:21: FutureWarning: set_value is deprecated and will be removed in a future release. Please use .at[] or .iat[] accessors instead\n",
      "/Users/TFC-VLakshmanan/anaconda2/lib/python2.7/site-packages/ipykernel_launcher.py:18: FutureWarning: set_value is deprecated and will be removed in a future release. Please use .at[] or .iat[] accessors instead\n",
      "/Users/TFC-VLakshmanan/anaconda2/lib/python2.7/site-packages/ipykernel_launcher.py:14: FutureWarning: set_value is deprecated and will be removed in a future release. Please use .at[] or .iat[] accessors instead\n",
      "  \n",
      "/Users/TFC-VLakshmanan/anaconda2/lib/python2.7/site-packages/ipykernel_launcher.py:23: FutureWarning: set_value is deprecated and will be removed in a future release. Please use .at[] or .iat[] accessors instead\n",
      "/Users/TFC-VLakshmanan/anaconda2/lib/python2.7/site-packages/ipykernel_launcher.py:31: FutureWarning: set_value is deprecated and will be removed in a future release. Please use .at[] or .iat[] accessors instead\n",
      "/Users/TFC-VLakshmanan/anaconda2/lib/python2.7/site-packages/ipykernel_launcher.py:34: FutureWarning: set_value is deprecated and will be removed in a future release. Please use .at[] or .iat[] accessors instead\n",
      "/Users/TFC-VLakshmanan/anaconda2/lib/python2.7/site-packages/ipykernel_launcher.py:25: FutureWarning: set_value is deprecated and will be removed in a future release. Please use .at[] or .iat[] accessors instead\n",
      "/Users/TFC-VLakshmanan/anaconda2/lib/python2.7/site-packages/ipykernel_launcher.py:40: FutureWarning: set_value is deprecated and will be removed in a future release. Please use .at[] or .iat[] accessors instead\n"
     ]
    }
   ],
   "source": [
    "for index, row in data.iterrows():\n",
    "    \n",
    "    h=data.get_value(index,'Race_Eth')\n",
    "    \n",
    "    if h=='Prefer not to answer Hispanic Origin':\n",
    "        data.set_value(index,'Race_Eth',4)\n",
    "    elif h=='White/Caucasian Hispanic Origin':\n",
    "        data.set_value(index,'Race_Eth',4)\n",
    "    elif h=='Multiracial Hispanic Origin':\n",
    "        data.set_value(index,'Race_Eth',4)\n",
    "    elif h=='Black/African-American Hispanic Origin':\n",
    "        data.set_value(index,'Race_Eth',4)\n",
    "    elif h=='American Indian or Alaska Native Hispanic Origin':\n",
    "        data.set_value(index,'Race_Eth',4)\n",
    "    elif h=='Asian or Pacific Islander Hispanic Origin':\n",
    "        data.set_value(index,'Race_Eth',4)\n",
    "    elif h=='nan Hispanic Origin':\n",
    "        data.set_value(index,'Race_Eth',4)\n",
    "    \n",
    "    elif h=='Prefer not to answer Not of Hispanic Origin':\n",
    "        data.set_value(index,'Race_Eth',3)\n",
    "    elif h=='White/Caucasian Not of Hispanic Origin':\n",
    "        data.set_value(index,'Race_Eth',1)\n",
    "    elif h=='Multiracial Not of Hispanic Origin':\n",
    "        data.set_value(index,'Race_Eth',3)\n",
    "    elif h=='Black/African-American Not of Hispanic Origin':\n",
    "        data.set_value(index,'Race_Eth',2)\n",
    "    elif h=='American Indian or Alaska Native Not of Hispanic Origin':\n",
    "        data.set_value(index,'Race_Eth',3)\n",
    "    elif h=='Asian or Pacific Islander Not of Hispanic Origin':\n",
    "        data.set_value(index,'Race_Eth',3)\n",
    "    \n",
    "    elif h=='Prefer not to answer Prefer not to answer':\n",
    "        data.set_value(index,'Race_Eth',np.nan)\n",
    "    elif h=='White/Caucasian Prefer not to answer':\n",
    "        data.set_value(index,'Race_Eth',np.nan)\n",
    "    elif h=='Multiracial Prefer not to answer':\n",
    "        data.set_value(index,'Race_Eth',np.nan)\n",
    "    elif h=='Black/African-American Prefer not to answer':\n",
    "        data.set_value(index,'Race_Eth',np.nan)\n",
    "    elif h=='American Indian or Alaska Native Prefer not to answer':\n",
    "        data.set_value(index,'Race_Eth',np.nan)\n",
    "    elif h=='Asian or Pacific Islander Prefer not to answer':\n",
    "        data.set_value(index,'Race_Eth',np.nan)"
   ]
  },
  {
   "cell_type": "code",
   "execution_count": 45,
   "metadata": {},
   "outputs": [
    {
     "data": {
      "text/plain": [
       "4    60\n",
       "2    35\n",
       "3     8\n",
       "1     2\n",
       "Name: Race_Eth, dtype: int64"
      ]
     },
     "execution_count": 45,
     "metadata": {},
     "output_type": "execute_result"
    }
   ],
   "source": [
    "data['Race_Eth'].value_counts()"
   ]
  },
  {
   "cell_type": "code",
   "execution_count": null,
   "metadata": {},
   "outputs": [],
   "source": []
  }
 ],
 "metadata": {
  "kernelspec": {
   "display_name": "Python 2",
   "language": "python",
   "name": "python2"
  },
  "language_info": {
   "codemirror_mode": {
    "name": "ipython",
    "version": 2
   },
   "file_extension": ".py",
   "mimetype": "text/x-python",
   "name": "python",
   "nbconvert_exporter": "python",
   "pygments_lexer": "ipython2",
   "version": "2.7.15"
  }
 },
 "nbformat": 4,
 "nbformat_minor": 2
}
